{
 "cells": [
  {
   "cell_type": "markdown",
   "metadata": {},
   "source": [
    "# RNN implementation using numpy\n",
    "This is a numpy implementation of RNN. It is developed with the intention of understanding how RNNs work. The task is to predict the next character."
   ]
  },
  {
   "cell_type": "markdown",
   "metadata": {},
   "source": [
    "## Training Data\n",
    "For training the RNN, I will be using Isaac Asimov's \"Nightfall and other short stories\".\n",
    "The first task is to load training data and determine the size of dataset and the vocabulary."
   ]
  },
  {
   "cell_type": "code",
   "execution_count": 4,
   "metadata": {
    "collapsed": false
   },
   "outputs": [
    {
     "name": "stdout",
     "output_type": "stream",
     "text": [
      "Training set has 751490 chars and 92 unique characters\n"
     ]
    }
   ],
   "source": [
    "data = open('Nightfall.txt', 'r').read()\n",
    "\n",
    "charset = list(set(data))\n",
    "\n",
    "data_size = len(data)\n",
    "vocab_size = len(charset)\n",
    "print 'Training set has %d chars and %d unique characters' % (data_size, vocab_size)"
   ]
  },
  {
   "cell_type": "markdown",
   "metadata": {},
   "source": [
    "### Encoding characters"
   ]
  },
  {
   "cell_type": "code",
   "execution_count": 5,
   "metadata": {
    "collapsed": false
   },
   "outputs": [
    {
     "name": "stdout",
     "output_type": "stream",
     "text": [
      "{' ': 0, '$': 1, '(': 2, ',': 3, '0': 4, '4': 5, '8': 6, '@': 7, '\\xc3': 8, 'D': 9, 'H': 10, 'L': 11, 'P': 12, 'T': 13, 'X': 14, 'd': 15, 'h': 16, 'l': 17, 'p': 18, 't': 19, 'x': 20, '\\x80': 21, '\\x98': 22, '\\x9c': 23, '#': 24, '\\xa8': 25, '/': 26, '3': 27, '7': 28, ';': 29, '\\xbc': 30, '?': 31, 'C': 32, 'G': 33, 'K': 34, 'O': 35, 'S': 36, 'W': 37, 'c': 38, 'g': 39, 'k': 40, 'o': 41, 's': 42, 'w': 43, '\\n': 44, '\\x99': 45, '\\x9d': 46, '&': 47, '\\xa9': 48, '*': 49, '.': 50, '2': 51, '6': 52, ':': 53, 'B': 54, 'F': 55, 'J': 56, 'N': 57, 'R': 58, 'V': 59, 'Z': 60, 'b': 61, 'f': 62, 'j': 63, 'n': 64, 'r': 65, 'v': 66, 'z': 67, '\\t': 68, '!': 69, '\\xa2': 70, ')': 71, '-': 72, '1': 73, '5': 74, '9': 75, 'A': 76, '\\xc2': 77, 'E': 78, 'I': 79, 'M': 80, 'Q': 81, 'U': 82, 'Y': 83, 'a': 84, '\\xe2': 85, 'e': 86, 'i': 87, 'm': 88, 'q': 89, 'u': 90, 'y': 91}\n",
      "{' ': 0, '$': 1, '(': 2, ',': 3, '0': 4, '4': 5, '8': 6, '@': 7, '\\xc3': 8, 'D': 9, 'H': 10, 'L': 11, 'P': 12, 'T': 13, 'X': 14, 'd': 15, 'h': 16, 'l': 17, 'p': 18, 't': 19, 'x': 20, '\\x80': 21, '\\x98': 22, '\\x9c': 23, '#': 24, '\\xa8': 25, '/': 26, '3': 27, '7': 28, ';': 29, '\\xbc': 30, '?': 31, 'C': 32, 'G': 33, 'K': 34, 'O': 35, 'S': 36, 'W': 37, 'c': 38, 'g': 39, 'k': 40, 'o': 41, 's': 42, 'w': 43, '\\n': 44, '\\x99': 45, '\\x9d': 46, '&': 47, '\\xa9': 48, '*': 49, '.': 50, '2': 51, '6': 52, ':': 53, 'B': 54, 'F': 55, 'J': 56, 'N': 57, 'R': 58, 'V': 59, 'Z': 60, 'b': 61, 'f': 62, 'j': 63, 'n': 64, 'r': 65, 'v': 66, 'z': 67, '\\t': 68, '!': 69, '\\xa2': 70, ')': 71, '-': 72, '1': 73, '5': 74, '9': 75, 'A': 76, '\\xc2': 77, 'E': 78, 'I': 79, 'M': 80, 'Q': 81, 'U': 82, 'Y': 83, 'a': 84, '\\xe2': 85, 'e': 86, 'i': 87, 'm': 88, 'q': 89, 'u': 90, 'y': 91}\n"
     ]
    }
   ],
   "source": [
    "ch_i = {ch:i for i,ch in enumerate(charset)}\n",
    "i_ch = {i:ch for ch,i in enumerate(charset)}\n",
    "print ch_i\n",
    "print i_ch"
   ]
  },
  {
   "cell_type": "markdown",
   "metadata": {},
   "source": [
    "### Vectorize characters"
   ]
  },
  {
   "cell_type": "code",
   "execution_count": null,
   "metadata": {
    "collapsed": true
   },
   "outputs": [],
   "source": [
    "import numpy as np\n",
    "vector_char_a = np.zeros((vocab_size,1))\n",
    "vector_char_a[ch_i['a']] = 1\n",
    "print vec"
   ]
  }
 ],
 "metadata": {
  "kernelspec": {
   "display_name": "Python 2",
   "language": "python",
   "name": "python2"
  },
  "language_info": {
   "codemirror_mode": {
    "name": "ipython",
    "version": 2
   },
   "file_extension": ".py",
   "mimetype": "text/x-python",
   "name": "python",
   "nbconvert_exporter": "python",
   "pygments_lexer": "ipython2",
   "version": "2.7.8"
  }
 },
 "nbformat": 4,
 "nbformat_minor": 0
}
